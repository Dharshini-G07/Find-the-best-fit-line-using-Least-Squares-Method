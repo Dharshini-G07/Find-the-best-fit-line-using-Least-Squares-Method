{
 "cells": [
  {
   "cell_type": "code",
   "execution_count": 4,
   "id": "4bc3c111-4f75-4419-8000-d14104a8c981",
   "metadata": {},
   "outputs": [
    {
     "name": "stdout",
     "output_type": "stream",
     "text": [
      "Name: Priyadharshini G\n",
      "Reg no : 212224230209\n"
     ]
    }
   ],
   "source": [
    "print(\"Name: Priyadharshini G\")\n",
    "print(\"Reg no : 212224230209\")"
   ]
  },
  {
   "cell_type": "code",
   "execution_count": null,
   "id": "ff850db0-2df4-4f70-a351-f7b6fe579c38",
   "metadata": {},
   "outputs": [
    {
     "name": "stdin",
     "output_type": "stream",
     "text": [
      " [8,2,11,6,5,4,12,9,6,1]\n"
     ]
    }
   ],
   "source": [
    "import numpy as np\n",
    "import matplotlib.pyplot as plt\n",
    "x=np.array(eval(input()))\n",
    "y=np.array(eval(input()))\n",
    "x_mean=np.mean(x)\n",
    "y_mean=np.mean(y)\n",
    "num =0\n",
    "denom =0\n",
    "for i in range(len(x)):\n",
    "    num+=(x[i]-x_mean)*(y[i]-y_mean)\n",
    "    denom+=(x[i]-x_mean)**2\n",
    "m=num/denom\n",
    "b=y_mean-m*x_mean\n",
    "print(\"Slope : \",m)\n",
    "print(\"Y-intercept : \",b)\n",
    "y_predicted = m*x+b\n",
    "print(y_predicted)\n",
    "plt.scatter(x,y)\n",
    "plt.plot(x,y_predicted,color='red')\n",
    "plt.show()\n",
    "print(\"Name: Priyadharshini G\")\n",
    "print(\"Reg no : 212224230209\")\n"
   ]
  },
  {
   "cell_type": "code",
   "execution_count": null,
   "id": "da64f449-e6b3-4402-80ec-6991360977e7",
   "metadata": {},
   "outputs": [],
   "source": []
  }
 ],
 "metadata": {
  "kernelspec": {
   "display_name": "Python [conda env:base] *",
   "language": "python",
   "name": "conda-base-py"
  },
  "language_info": {
   "codemirror_mode": {
    "name": "ipython",
    "version": 3
   },
   "file_extension": ".py",
   "mimetype": "text/x-python",
   "name": "python",
   "nbconvert_exporter": "python",
   "pygments_lexer": "ipython3",
   "version": "3.12.7"
  }
 },
 "nbformat": 4,
 "nbformat_minor": 5
}
